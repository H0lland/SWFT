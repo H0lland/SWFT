{
 "cells": [
  {
   "cell_type": "code",
   "execution_count": 3,
   "metadata": {
    "collapsed": false
   },
   "outputs": [],
   "source": [
    "def importArray(filename):\n",
    "    file = open (filename, \"r\")\n",
    "    arr = []\n",
    "    for line in file.readlines():\n",
    "        if (line.rstrip() != ''):\n",
    "            arr.append(line.strip())\n",
    "    file.close()\n",
    "    return arr\n",
    "\n",
    "def makeDict(arr):\n",
    "    rtn = dict();\n",
    "    for i in arr:\n",
    "        split = i.split(\":\")\n",
    "        tool = split[0]\n",
    "        inputs = split[1].split(\",\")\n",
    "        outputs = split[2].split(\",\")\n",
    "        for j in range(len(inputs)):\n",
    "            if inputs[j].strip() not in rtn:\n",
    "                rtn[inputs[j].strip()]=dict()\n",
    "            for k in range(len(outputs)):\n",
    "                rtn[inputs[j].strip()][outputs[k].strip()] = tool\n",
    "    return rtn\n",
    "\n",
    "def loadDict(filename):\n",
    "    arr = importArray(filename)\n",
    "    return makeDict(arr)\n",
    "\n",
    "def makePath(d,inType,outType):\n",
    "    if(inType == outType): #trivial case\n",
    "        return \"None\"\n",
    "    else:\n",
    "        try:\n",
    "            return d[inType][outType]\n",
    "        except: KeyError\n",
    "        return recMakePath(d,[inType],inType,outType)\n",
    "        \n",
    "def recMakePath(d,arr,inType,outType):\n",
    "    try:\n",
    "        return d[inType][outType]\n",
    "    except: KeyError\n",
    "    for i in d[inType]:\n",
    "        if i not in arr:\n",
    "            arr.append(i)\n",
    "            try:\n",
    "                path = recMakePath(d,arr,i,outType)\n",
    "                if(path.split('->')[-1]==\"No path\"):\n",
    "                    return \"No path\"\n",
    "                else:\n",
    "                    return d[inType][i] + \"->\" + path\n",
    "                break\n",
    "            except: KeyError\n",
    "    return 'No path'\n",
    "\n",
    "def toolW(data): #toolW gives an average of a set of values\n",
    "    return [float(sum(data)) / float(len(data))]\n",
    "\n",
    "def toolX(data): #toolX truncates three elements off the end of a list\n",
    "    return data[:-3]\n",
    "\n",
    "def toolY(data): #toolY gives the absolute value of each value in data\n",
    "    for i in range(len(data)):\n",
    "        data[i] = abs(data[i])\n",
    "    return data\n",
    "\n",
    "def toolZ(data): #toolZ turns a set of ints into a set of floats\n",
    "    for i in range(len(data)):\n",
    "        data[i] = float(data[i])\n",
    "    return data\n",
    "\n",
    "def numberify(arr):\n",
    "    try: #try to convert to a list of ints\n",
    "        for i in range(len(arr)): \n",
    "            arr[i] = int(arr[i])\n",
    "        return arr\n",
    "    except: ValueError\n",
    "    for i in range(len(arr)): #else, convert to a list of floats\n",
    "        arr[i] = float(arr[i])\n",
    "    return arr\n",
    "\n",
    "def execute(path,inFile,outType):\n",
    "    inType = inFile.split(\".\")[1] #get the input file type by file extension\n",
    "    fileName = inFile.split(\".\")[0]\n",
    "    steps = path.split(\"->\") #get the steps of the path\n",
    "    file = open(inFile, \"r\")\n",
    "    line = file.readlines()[0] #grab the first line (simlifying assumption)\n",
    "    data = numberify(line.split())\n",
    "    file.close()\n",
    "    for i in steps:\n",
    "        if i == \"toolW\":\n",
    "            data = toolW(data)\n",
    "        elif i == \"toolX\":\n",
    "            data = toolX(data)\n",
    "        elif i == \"toolY\":\n",
    "            data == toolY(data)\n",
    "        elif i == \"toolZ\":\n",
    "            data == toolZ(data)\n",
    "        print(i + \" completed.\")\n",
    "    outFile = open(fileName+\".\"+outType,\"w\")\n",
    "    for j in data:\n",
    "        outFile.write(str(j)+\" \")\n",
    "    return\n",
    "\n",
    "def chainTools(d,inFile,outType):\n",
    "    inType = inFile.split(\".\")[0] #get the input file type for the path creation\n",
    "    path = makePath(d,inType,outType)\n",
    "    print(path)\n",
    "    execute(path,inFile,outType)\n",
    "    return"
   ]
  },
  {
   "cell_type": "code",
   "execution_count": 4,
   "metadata": {
    "collapsed": false
   },
   "outputs": [],
   "source": [
    "d = loadDict(\"a.txt\")"
   ]
  },
  {
   "cell_type": "code",
   "execution_count": 6,
   "metadata": {
    "collapsed": false
   },
   "outputs": [
    {
     "name": "stdout",
     "output_type": "stream",
     "text": [
      "toolX->toolY->toolW\n",
      "toolX completed.\n",
      "toolY completed.\n",
      "toolW completed.\n"
     ]
    }
   ],
   "source": [
    "chainTools(d, \"test1.beta\", \"iota\")"
   ]
  },
  {
   "cell_type": "code",
   "execution_count": 112,
   "metadata": {
    "collapsed": false
   },
   "outputs": [],
   "source": [
    "p"
   ]
  },
  {
   "cell_type": "code",
   "execution_count": 101,
   "metadata": {
    "collapsed": false
   },
   "outputs": [
    {
     "data": {
      "text/plain": [
       "'toolY->toolZ->toolW'"
      ]
     },
     "execution_count": 101,
     "metadata": {},
     "output_type": "execute_result"
    }
   ],
   "source": [
    "execute(p,\"test1.beta\",\"iota\")"
   ]
  },
  {
   "cell_type": "code",
   "execution_count": 8,
   "metadata": {
    "collapsed": false
   },
   "outputs": [
    {
     "data": {
      "text/plain": [
       "{'alpha': {'iota': 'toolW'},\n",
       " 'beta': {'delta': 'toolX',\n",
       "  'epsilon': 'toolY',\n",
       "  'eta': 'toolX',\n",
       "  'zeta': 'toolY'},\n",
       " 'delta': {'epsilon': 'toolY', 'zeta': 'toolY'},\n",
       " 'epsilon': {'alpha': 'toolZ', 'gamma': 'toolZ'},\n",
       " 'gamma': {'epsilon': 'toolY', 'zeta': 'toolY'},\n",
       " 'kappa': {'alpha': 'toolZ',\n",
       "  'delta': 'toolX',\n",
       "  'eta': 'toolX',\n",
       "  'gamma': 'toolZ'},\n",
       " 'theta': {'alpha': 'toolZ',\n",
       "  'delta': 'toolX',\n",
       "  'eta': 'toolX',\n",
       "  'gamma': 'toolZ'},\n",
       " 'zeta': {'epsilon': 'toolY', 'iota': 'toolW', 'zeta': 'toolY'}}"
      ]
     },
     "execution_count": 8,
     "metadata": {},
     "output_type": "execute_result"
    }
   ],
   "source": [
    "d"
   ]
  },
  {
   "cell_type": "code",
   "execution_count": 10,
   "metadata": {
    "collapsed": false
   },
   "outputs": [
    {
     "data": {
      "text/plain": [
       "'No path'"
      ]
     },
     "execution_count": 10,
     "metadata": {},
     "output_type": "execute_result"
    }
   ],
   "source": [
    "makePath(d,\"alpha\",\"gamma\")"
   ]
  },
  {
   "cell_type": "code",
   "execution_count": null,
   "metadata": {
    "collapsed": true
   },
   "outputs": [],
   "source": []
  }
 ],
 "metadata": {
  "kernelspec": {
   "display_name": "Python 3",
   "language": "python",
   "name": "python3"
  },
  "language_info": {
   "codemirror_mode": {
    "name": "ipython",
    "version": 3
   },
   "file_extension": ".py",
   "mimetype": "text/x-python",
   "name": "python",
   "nbconvert_exporter": "python",
   "pygments_lexer": "ipython3",
   "version": "3.5.2"
  }
 },
 "nbformat": 4,
 "nbformat_minor": 2
}
